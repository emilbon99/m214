{
 "cells": [
  {
   "cell_type": "markdown",
   "source": [
    "# Markov Chain"
   ],
   "metadata": {
    "collapsed": false,
    "pycharm": {
     "name": "#%% md\n"
    }
   }
  },
  {
   "cell_type": "code",
   "execution_count": 33,
   "outputs": [],
   "source": [
    "import numpy as np"
   ],
   "metadata": {
    "collapsed": false,
    "pycharm": {
     "name": "#%%\n"
    }
   }
  },
  {
   "cell_type": "markdown",
   "source": [
    "## Application to PageRank\n",
    "\n",
    "PageRank uses random walks to traverse a set of web pages. When the algorithm reaches a new webpage, it scans the document for all of its links, and then chooses a link at random as its next page.\n",
    "\n",
    "This movement can be described using a model called a Markov chain (or process). A markov chain evaluates a set of events (in this case, movement across webpages) as depending only on its previous state. The crawler only considers the links from the current site in its decision for which site to go to next."
   ],
   "metadata": {
    "collapsed": false,
    "pycharm": {
     "name": "#%% md\n"
    }
   }
  },
  {
   "cell_type": "markdown",
   "source": [
    "## Representation\n",
    "\n",
    "Markov chains can be represented using the following elements:\n",
    "\n",
    "Probability Vector - A vector of nonnegative entries that sum to 1.\n",
    "Stochastic Matrix - A square matrix consisting of a set of probability vectors.\n",
    "\n",
    "The state of the chain is represented by a probability vector, and its evolution from state to the next is represented by a stochastic matrix. To understand this in practice, lets look at an example."
   ],
   "metadata": {
    "collapsed": false,
    "pycharm": {
     "name": "#%% md\n"
    }
   }
  },
  {
   "cell_type": "markdown",
   "source": [
    "\n",
    "We can represent the system with the following diagram:\n",
    "\n",
    "\n",
    "\n",
    "\\begin{split}\\begin{array}{rcc}&\\mbox{From CS}&\\mbox{From IOE}&\\mbox{From ME}\\\\\\mbox{To CS}& .90&.02&.04\\\\\\mbox{To IOE}&.06&.92&.03\\\\\\mbox{To ME}&.04&.06&.93\\end{array}\\end{split}\n",
    "\n",
    "The following is a probability vector representing the percentage of students remaining in CS, moving from CS to IO, or moving from CS to ME at the end of a given academic year.\n",
    "\n",
    "\\begin{split}V = \\left[\\begin{array}{rr}.90\\\\.06\\\\.04\\end{array}\\right].\\end{split}\n",
    "\n",
    "Its important to note that the sum of the entries in the vector is 1.\n",
    "\n",
    "We can them apply the same procedure to the other two majors to construct the stochastic matrix $A$:\n",
    "\n",
    " \\begin{bmatrix}.90 & .02 & .04  \\\\\n",
    " .06 & .92 & .03 \\\\\n",
    " .04 & .06 & .93\n",
    "\\end{bmatrix}"
   ],
   "metadata": {
    "collapsed": false,
    "pycharm": {
     "name": "#%% md\n"
    }
   }
  },
  {
   "cell_type": "markdown",
   "source": [],
   "metadata": {
    "collapsed": false
   }
  },
  {
   "cell_type": "code",
   "source": [
    "# The stochastic matrix\n",
    "A = np.array([[.90, .02, .04], [.06, .92, .03], [.04, .06, .93]])"
   ],
   "metadata": {
    "collapsed": false,
    "pycharm": {
     "name": "#%%\n"
    }
   },
   "execution_count": 34,
   "outputs": []
  },
  {
   "cell_type": "markdown",
   "source": [
    "\n",
    "Its easy to see that by applying this transformation to the a data set representing the number of students in each major, we can get the number of students in each major after the end of the year. Lets say the number of students in each major at the end of the first year $N_1$ is represented by the following matrix:\n",
    "\n",
    " \\begin{bmatrix}100\\\\50\\\\50\\end{bmatrix}\n"
   ],
   "metadata": {
    "collapsed": false
   }
  },
  {
   "cell_type": "code",
   "execution_count": 39,
   "outputs": [],
   "source": [
    "# Distribution of students as of the first year\n",
    "N1 = np.array([100, 50, 50])\n",
    "# After normalization, the percentages are:\n",
    "NORM_N1 = N1 / np.sum(N1)"
   ],
   "metadata": {
    "collapsed": false,
    "pycharm": {
     "name": "#%%\n"
    }
   }
  },
  {
   "cell_type": "markdown",
   "source": [
    "We can normalize the matrix to get the following distribution:\n",
    "\n",
    "\\begin{bmatrix}0.5\\\\0.25\\\\0.25\\end{bmatrix}\n",
    "\n",
    "We can apply our transformation $A$ to the distribution $N_1$ to get the distribution $N_20$."
   ],
   "metadata": {
    "collapsed": false,
    "pycharm": {
     "name": "#%% md\n"
    }
   }
  },
  {
   "cell_type": "code",
   "execution_count": 47,
   "outputs": [
    {
     "data": {
      "text/plain": "array([0.25063319, 0.34209419, 0.40727262])"
     },
     "execution_count": 47,
     "metadata": {},
     "output_type": "execute_result"
    }
   ],
   "source": [
    "NORM_N1 = N1 / np.sum(N1)\n",
    "# 20 Years\n",
    "N_YEAR = 20\n",
    "# Transition Matrix for 20 years\n",
    "A2 = np.linalg.matrix_power(A, N_YEAR)\n",
    "# Percentage of students in each major after 20 years\n",
    "N20 = np.dot(A2, NORM_N1)\n",
    "N20"
   ],
   "metadata": {
    "collapsed": false,
    "pycharm": {
     "name": "#%%\n"
    }
   }
  },
  {
   "cell_type": "markdown",
   "source": [
    "So $N_2$ represents the distribution of students at the end of the twentieth year:\n",
    "\n",
    " \\begin{bmatrix}0.25\\\\0.35\\\\0.40\\end{bmatrix}"
   ],
   "metadata": {
    "collapsed": false,
    "pycharm": {
     "name": "#%% md\n"
    }
   }
  },
  {
   "cell_type": "markdown",
   "source": [
    "Let's represent our markov chain as a node graph."
   ],
   "metadata": {
    "collapsed": false,
    "pycharm": {
     "name": "#%% md\n"
    }
   }
  },
  {
   "cell_type": "code",
   "execution_count": 180,
   "outputs": [
    {
     "name": "stdout",
     "output_type": "stream",
     "text": [
      "[2, 3, 4, 5, 6, 7]\n"
     ]
    },
    {
     "data": {
      "text/plain": "<Figure size 432x288 with 1 Axes>",
      "image/png": "[encoded data removed]"
     },
     "metadata": {},
     "output_type": "display_data"
    }
   ],
   "source": [
    "import networkx as nx\n",
    "import matplotlib.pyplot as plt\n",
    "\n",
    "G = nx.Graph()\n",
    "\n",
    "G.add_edge(1,1)\n",
    "G.add_edge(1,2)\n",
    "G.add_edge(1,3)\n",
    "G.add_edge(2,1)\n",
    "G.add_edge(2,2)\n",
    "G.add_edge(2,3)\n",
    "G.add_edge(3,1)\n",
    "G.add_edge(3,2)\n",
    "G.add_edge(3,3)\n",
    "\n",
    "pos = nx.spring_layout(G)\n",
    "nx.draw_networkx_nodes(\n",
    "    G,\n",
    "    pos=pos,\n",
    "    node_size=800,\n",
    "    nodelist=[1,2,3],\n",
    "    node_color=\"indigo\",\n",
    ")\n",
    "nx.draw_networkx_labels(G, pos=pos, labels={1:'CS', 2:'IOE', 3:'ME'}, font_color='white', font_weight='bold', font_family='poppins')\n",
    "\n",
    "edge_colors = range(2, G.number_of_edges()+2)\n",
    "print([color for color in edge_colors])\n",
    "nx.draw_networkx_edges(\n",
    "    G,\n",
    "    pos=pos,\n",
    "    node_size=800,\n",
    "    # edge_color=edge_colors,\n",
    "    edge_color=[\n",
    "        .90,\n",
    "        .04,\n",
    "        .02,\n",
    "        .95,\n",
    "        .04,\n",
    "        .92,\n",
    "    ],\n",
    "    edge_cmap=plt.cm.plasma,\n",
    "    alpha=0.5,\n",
    "    width=3,\n",
    ")"
   ],
   "metadata": {
    "collapsed": false,
    "pycharm": {
     "name": "#%%\n"
    }
   }
  },
  {
   "cell_type": "code",
   "execution_count": null,
   "outputs": [],
   "source": [],
   "metadata": {
    "collapsed": false,
    "pycharm": {
     "name": "#%%\n"
    }
   }
  }
 ],
 "metadata": {
  "kernelspec": {
   "display_name": "Python 3",
   "language": "python",
   "name": "python3"
  },
  "language_info": {
   "codemirror_mode": {
    "name": "ipython",
    "version": 2
   },
   "file_extension": ".py",
   "mimetype": "text/x-python",
   "name": "python",
   "nbconvert_exporter": "python",
   "pygments_lexer": "ipython2",
   "version": "2.7.6"
  }
 },
 "nbformat": 4,
 "nbformat_minor": 0
}