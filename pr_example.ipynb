{
 "cells": [
  {
   "cell_type": "code",
   "execution_count": 1,
   "metadata": {
    "collapsed": true
   },
   "outputs": [],
   "source": [
    "import numpy as np"
   ]
  },
  {
   "cell_type": "code",
   "execution_count": 42,
   "outputs": [],
   "source": [
    "# page_rank returns a numpy array of the page rank of each node\n",
    "# in the provided nodes\n",
    "def page_rank_(A):\n",
    "    print(f\"\"\"\n",
    "        Running Page Rank Algorithm\n",
    "        on the following matrix:\n",
    "\n",
    "        {A}\n",
    "\n",
    "    \"\"\")\n",
    "\n",
    "    evalues, evectors = np.linalg.eig(A)\n",
    "\n",
    "    p = np.argsort(evalues)[-1]\n",
    "    ss = np.real(evectors[:,p])\n",
    "\n",
    "    print(f\"\"\"\n",
    "        The largest eigenvalue is {evalues[p]}\n",
    "        and the corresponding steady state eigenvector is:\n",
    "\n",
    "        {ss}\n",
    "    \"\"\")\n",
    "\n",
    "    ss = ss / np.sum(ss)\n",
    "    revOrder = np.argsort(ss)\n",
    "    inOrder = 1 + revOrder[::-1]\n",
    "    ss = ss[inOrder-1]\n",
    "\n",
    "    print(f\"\"\"\n",
    "        PageRank Results:\n",
    "            Final Order of Pages: {inOrder}\n",
    "            Final Page Rank: {ss}\n",
    "    \"\"\")"
   ],
   "metadata": {
    "collapsed": false,
    "pycharm": {
     "name": "#%%\n"
    }
   }
  },
  {
   "cell_type": "code",
   "execution_count": 49,
   "outputs": [
    {
     "name": "stdout",
     "output_type": "stream",
     "text": [
      "\n",
      "        Running Page Rank Algorithm\n",
      "        on the following matrix:\n",
      "\n",
      "        [[0.01666667 0.16666667 0.31666667 0.46666667 0.01666667 0.01666667]\n",
      " [0.13333333 0.16666667 0.31666667 0.01666667 0.01666667 0.01666667]\n",
      " [0.8        0.16666667 0.01666667 0.01666667 0.01666667 0.01666667]\n",
      " [0.01666667 0.16666667 0.01666667 0.01666667 0.46666667 0.83333333]\n",
      " [0.01666667 0.16666667 0.31666667 0.06666667 0.01666667 0.1       ]\n",
      " [0.01666667 0.16666667 0.01666667 0.46666667 0.46666667 0.1       ]]\n",
      "\n",
      "    \n",
      "\n",
      "        The largest eigenvalue is (1.0282728287768843+0j)\n",
      "        and the corresponding steady state eigenvector is:\n",
      "\n",
      "        [0.43402944 0.24030045 0.40386837 0.55520673 0.25581118 0.46590835]\n",
      "    \n",
      "\n",
      "        PageRank Results:\n",
      "            Final Order of Pages: [4 6 1 3 5 2]\n",
      "            Final Page Rank: [0.23574411 0.19782748 0.1842915  0.17148493 0.10861896 0.10203301]\n",
      "    \n"
     ]
    }
   ],
   "source": [
    "A = np.array([\n",
    "    [1./60, 1./6, 19./60, 7./15, 1./60,  1./60],\n",
    "    [2./15, 1./6, 19./60, 1./60, 1./60,  1./60],\n",
    "    [12./15, 1./6,  1./60, 1./60, 1./60,  1./60],\n",
    "    [1./60, 1./6,  1./60, 1./60, 7./15, 10./12],\n",
    "    [1./60, 1./6, 19./60, 1./15, 1./60,  1/10],\n",
    "    [1./60, 1./6,  1./60, 7./15, 7./15,  1/10]\n",
    "])\n",
    "page_rank(A)"
   ],
   "metadata": {
    "collapsed": false,
    "pycharm": {
     "name": "#%%\n"
    }
   }
  }
 ],
 "metadata": {
  "kernelspec": {
   "display_name": "Python 3",
   "language": "python",
   "name": "python3"
  },
  "language_info": {
   "codemirror_mode": {
    "name": "ipython",
    "version": 2
   },
   "file_extension": ".py",
   "mimetype": "text/x-python",
   "name": "python",
   "nbconvert_exporter": "python",
   "pygments_lexer": "ipython2",
   "version": "2.7.6"
  }
 },
 "nbformat": 4,
 "nbformat_minor": 0
}